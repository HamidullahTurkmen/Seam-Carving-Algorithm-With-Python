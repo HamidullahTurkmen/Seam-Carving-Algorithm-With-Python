{
 "cells": [
  {
   "cell_type": "markdown",
   "metadata": {},
   "source": [
    "<center><h1><b>Seam Carving Algorithm With Python</b></h1></center>"
   ]
  },
  {
   "cell_type": "markdown",
   "metadata": {},
   "source": [
    "<b>Seam carving: </b> also known as content-aware image resizing, is one of the methods \n",
    "for adjusting the image size such that the content of the image will be preserved.\n",
    "Image resizing is used to handle different resolutions between modules of various \n",
    "device screens and applications. It can also be used intentionally to corrupt or \n",
    "remove the original content of the image. Therefore, it is of great importance \n",
    "to detect external interference with the images."
   ]
  },
  {
   "cell_type": "code",
   "execution_count": null,
   "metadata": {},
   "outputs": [],
   "source": [
    "import cv2\n",
    "import numpy as np\n",
    "import sys\n",
    "import glob\n",
    "import os, shutil\n",
    "import glob\n",
    "from os import listdir\n",
    "from os.path import isfile, join\n",
    "#from matplotlib import pyplot as plt\n",
    "from skimage.filters import prewitt,roberts,scharr\n",
    "from skimage.feature import canny\n",
    "from scipy.ndimage.filters import convolve\n",
    "from os import path"
   ]
  },
  {
   "cell_type": "code",
   "execution_count": 2,
   "metadata": {},
   "outputs": [],
   "source": [
    "def seamcarveVertical(I, K):\n",
    "    # silinecek piksel için bir sütunluk ye ayır\n",
    "    pix = np.zeros((I.shape[0], 1))\n",
    "    # diziyi bir kere oluştur boyutunu küçült\n",
    "    r = np.arange(0, I.shape[0]).reshape(I.shape[0], 1)\n",
    "\n",
    "    for k in range(1, K + 1):\n",
    "        griI = cv2.cvtColor(I, cv2.COLOR_BGR2GRAY)\n",
    "        # G=cv2.Laplacian(griI,cv2.CV_64F,ksize=3)\n",
    "        # G= scharr(griI)\n",
    "        # G= scharr(griI)\n",
    "        G = canny(griI)\n",
    "        # G= prewitt(griI)\n",
    "\n",
    "        # padding\n",
    "        G[:, 0] = G[:, 1]\n",
    "        G[:, -1] = G[:, -2]\n",
    "        G[0, :] = G[1, :]\n",
    "        G[-1, :] = G[-2, :]\n",
    "        # plt.figure(1)\n",
    "        # plt.imshow(G,cmap='gray')\n",
    "        Pot = G.copy()\n",
    "        A = []\n",
    "        for ii in range(1, Pot.shape[0]):\n",
    "            # padding pp=[Pot(ii-1,1) Pot(ii-1,:)  Pot(ii-1,end)];\n",
    "            pp = np.concatenate((Pot[ii - 1, 0].reshape(1, ),\n",
    "                                 Pot[ii - 1, :].reshape(Pot.shape[1], ),\n",
    "                                 Pot[ii - 1, -1].reshape(1, )), axis=0)\n",
    "            # her pikselin üstündeki sagındaki ve solundaki minimum piksel\n",
    "            S = np.minimum(pp[0:-2], pp[1:-1])\n",
    "            S = np.minimum(pp[2:], S)\n",
    "            # hesaplanan vektör satıra ekle\n",
    "            A = np.add(Pot[ii, :], S)\n",
    "            Pot[ii, :] = A\n",
    "        # son satırdaki en düşük enerjili sütun\n",
    "        loc = np.argmin(Pot[-1, :])\n",
    "        pix = np.zeros((G.shape[0], 1))\n",
    "        pix[-1] = loc;\n",
    "        # bottom up\n",
    "        for ii in range(G.shape[0] - 1, -1, -1):\n",
    "            if loc > 0 and loc < (G.shape[1] - 1):\n",
    "                loc = np.argmin(Pot[ii, (loc - 1):(loc + 1 + 1)]) + loc - 1\n",
    "\n",
    "            elif loc == (G.shape[1] - 1):  # rightmost column\n",
    "                loc = np.argmin(Pot[ii, (loc - 1):(loc + 1)]) + loc - 1\n",
    "            else:  # leftmostcolumn\n",
    "                loc = np.argmin(Pot[ii, loc:(loc + 1 + 1)]) + loc\n",
    "\n",
    "            pix[ii] = loc\n",
    "\n",
    "        Sel = np.zeros((G.shape[0], G.shape[1] - 1), dtype=int)\n",
    "        for i in range(G.shape[0]):\n",
    "            sel = np.concatenate((np.arange(0, pix[i]),\n",
    "                                  np.arange(pix[i] + 1, G.shape[1])))\n",
    "            Sel[i, :] = sel\n",
    "        I = I[r, Sel, :]\n",
    "\n",
    "    return I\n",
    "\n"
   ]
  },
  {
   "cell_type": "code",
   "execution_count": 3,
   "metadata": {},
   "outputs": [],
   "source": [
    "def seamcarving(I, K):\n",
    "    B = np.zeros((I.shape[0] - K, I.shape[1], I.shape[2]), dtype=np.uint8)\n",
    "    # print('1-O=seamcarveVertical(I,K)')\n",
    "    O = seamcarveVertical(I, K)\n",
    "    B[:, :, 0] = np.transpose(O[:, :, 0])\n",
    "    B[:, :, 1] = np.transpose(O[:, :, 1])\n",
    "    B[:, :, 2] = np.transpose(O[:, :, 2])\n",
    "    # print('2-B=seamcarveVertical(B,K)')\n",
    "    O = seamcarveVertical(B, K)\n",
    "    B = np.zeros((I.shape[0] - K, I.shape[1] - K, I.shape[2]), dtype=np.uint8)  # 'uint8'\n",
    "    # print('B.shape=',B.shape)\n",
    "    B[:, :, 0] = np.transpose(O[:, :, 0])\n",
    "    B[:, :, 1] = np.transpose(O[:, :, 1])\n",
    "    B[:, :, 2] = np.transpose(O[:, :, 2])\n",
    "    return B\n"
   ]
  },
  {
   "cell_type": "code",
   "execution_count": 4,
   "metadata": {},
   "outputs": [],
   "source": [
    "def seamcarvingbatch(I, K):\n",
    "    b = I.shape\n",
    "    O = np.zeros((b[0], b[1] - K, b[2] - K, b[3]), dtype=np.uint8)\n",
    "    for i in range(b[0]):\n",
    "        O[i, :, :, :] = seamcarving(I[i, :, :, :].reshape(b[1], b[2], b[3]), K)\n",
    "    return O\n"
   ]
  },
  {
   "cell_type": "code",
   "execution_count": 6,
   "metadata": {},
   "outputs": [],
   "source": [
    "if __name__ == \"__main__\":\n",
    "    \"\"\"seam_num = 5 # percentage of retarget image\n",
    "    src_dir = \"./train_img/\"\n",
    "    dst_dir = \"./val_imgs/\"\"\"\"\n",
    "\n",
    "    dosya = [f for f in listdir(src_dir) if isfile(join(src_dir, f))]\n",
    "    images = np.empty(len(dosya), dtype=object)\n",
    "    for n in range(0, len(dosya)):\n",
    "        images[n] = cv2.imread(join(src_dir, dosya[n]))\n",
    "        img = seamcarveVertical(images[n], seam_num)\n",
    "        cv2.imwrite(dst_dir + '{}.jpg'.format(n), img)\n"
   ]
  },
  {
   "cell_type": "markdown",
   "metadata": {},
   "source": [
    "## For More Information Click to the Link Below"
   ]
  },
  {
   "cell_type": "markdown",
   "metadata": {},
   "source": [
    "<a href=\"https://tez.yok.gov.tr/UlusalTezMerkezi/TezGoster?key=8tbPippmWV_b-Irrn9YEAsnI4wTAxUJFKVY8MOWHdJ-wbT3aEbE4e7I4v4i18Lcq\">Click Here</a>"
   ]
  },
  {
   "cell_type": "code",
   "execution_count": null,
   "metadata": {},
   "outputs": [],
   "source": []
  }
 ],
 "metadata": {
  "kernelspec": {
   "display_name": "Python 3 (ipykernel)",
   "language": "python",
   "name": "python3"
  },
  "language_info": {
   "codemirror_mode": {
    "name": "ipython",
    "version": 3
   },
   "file_extension": ".py",
   "mimetype": "text/x-python",
   "name": "python",
   "nbconvert_exporter": "python",
   "pygments_lexer": "ipython3",
   "version": "3.7.6"
  }
 },
 "nbformat": 4,
 "nbformat_minor": 4
}
